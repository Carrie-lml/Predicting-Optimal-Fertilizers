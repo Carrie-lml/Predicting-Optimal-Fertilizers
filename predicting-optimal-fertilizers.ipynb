{
 "cells": [
  {
   "cell_type": "markdown",
   "id": "6b470673",
   "metadata": {
    "papermill": {
     "duration": 0.005305,
     "end_time": "2025-07-02T08:44:14.775341",
     "exception": false,
     "start_time": "2025-07-02T08:44:14.770036",
     "status": "completed"
    },
    "tags": []
   },
   "source": [
    "# Data Processing"
   ]
  },
  {
   "cell_type": "markdown",
   "id": "21dddb18",
   "metadata": {
    "papermill": {
     "duration": 0.004303,
     "end_time": "2025-07-02T08:44:14.784383",
     "exception": false,
     "start_time": "2025-07-02T08:44:14.780080",
     "status": "completed"
    },
    "tags": []
   },
   "source": [
    "## Explore data"
   ]
  },
  {
   "cell_type": "code",
   "execution_count": 1,
   "id": "81a154dd",
   "metadata": {
    "execution": {
     "iopub.execute_input": "2025-07-02T08:44:14.794729Z",
     "iopub.status.busy": "2025-07-02T08:44:14.794406Z",
     "iopub.status.idle": "2025-07-02T08:44:19.002932Z",
     "shell.execute_reply": "2025-07-02T08:44:19.002203Z"
    },
    "papermill": {
     "duration": 4.215936,
     "end_time": "2025-07-02T08:44:19.004807",
     "exception": false,
     "start_time": "2025-07-02T08:44:14.788871",
     "status": "completed"
    },
    "tags": []
   },
   "outputs": [],
   "source": [
    "import numpy as np\n",
    "import pandas as pd\n",
    "import matplotlib.pyplot as plt\n",
    "\n",
    "from sklearn.preprocessing import LabelEncoder,StandardScaler, OneHotEncoder\n",
    "from sklearn.metrics import confusion_matrix, ConfusionMatrixDisplay\n",
    "from sklearn.ensemble import RandomForestClassifier, GradientBoostingClassifier\n",
    "from sklearn.model_selection import StratifiedKFold,cross_val_predict\n",
    "from sklearn.metrics import accuracy_score, f1_score,precision_score,mean_squared_error, precision_score, recall_score, classification_report\n",
    "from sklearn.linear_model import LogisticRegression\n",
    "from xgboost import XGBClassifier\n",
    "from sklearn.multiclass import OneVsRestClassifier\n",
    "from sklearn.pipeline import make_pipeline"
   ]
  },
  {
   "cell_type": "code",
   "execution_count": 2,
   "id": "916d26d9",
   "metadata": {
    "_cell_guid": "b1076dfc-b9ad-4769-8c92-a6c4dae69d19",
    "_uuid": "8f2839f25d086af736a60e9eeb907d3b93b6e0e5",
    "execution": {
     "iopub.execute_input": "2025-07-02T08:44:19.015703Z",
     "iopub.status.busy": "2025-07-02T08:44:19.015303Z",
     "iopub.status.idle": "2025-07-02T08:44:20.488912Z",
     "shell.execute_reply": "2025-07-02T08:44:20.487922Z"
    },
    "papermill": {
     "duration": 1.481002,
     "end_time": "2025-07-02T08:44:20.490488",
     "exception": false,
     "start_time": "2025-07-02T08:44:19.009486",
     "status": "completed"
    },
    "tags": []
   },
   "outputs": [
    {
     "data": {
      "text/html": [
       "<div>\n",
       "<style scoped>\n",
       "    .dataframe tbody tr th:only-of-type {\n",
       "        vertical-align: middle;\n",
       "    }\n",
       "\n",
       "    .dataframe tbody tr th {\n",
       "        vertical-align: top;\n",
       "    }\n",
       "\n",
       "    .dataframe thead th {\n",
       "        text-align: right;\n",
       "    }\n",
       "</style>\n",
       "<table border=\"1\" class=\"dataframe\">\n",
       "  <thead>\n",
       "    <tr style=\"text-align: right;\">\n",
       "      <th></th>\n",
       "      <th>id</th>\n",
       "      <th>Temparature</th>\n",
       "      <th>Humidity</th>\n",
       "      <th>Moisture</th>\n",
       "      <th>Soil Type</th>\n",
       "      <th>Crop Type</th>\n",
       "      <th>Nitrogen</th>\n",
       "      <th>Potassium</th>\n",
       "      <th>Phosphorous</th>\n",
       "      <th>Fertilizer Name</th>\n",
       "    </tr>\n",
       "  </thead>\n",
       "  <tbody>\n",
       "    <tr>\n",
       "      <th>0</th>\n",
       "      <td>0</td>\n",
       "      <td>37</td>\n",
       "      <td>70</td>\n",
       "      <td>36</td>\n",
       "      <td>Clayey</td>\n",
       "      <td>Sugarcane</td>\n",
       "      <td>36</td>\n",
       "      <td>4</td>\n",
       "      <td>5</td>\n",
       "      <td>28-28</td>\n",
       "    </tr>\n",
       "    <tr>\n",
       "      <th>1</th>\n",
       "      <td>1</td>\n",
       "      <td>27</td>\n",
       "      <td>69</td>\n",
       "      <td>65</td>\n",
       "      <td>Sandy</td>\n",
       "      <td>Millets</td>\n",
       "      <td>30</td>\n",
       "      <td>6</td>\n",
       "      <td>18</td>\n",
       "      <td>28-28</td>\n",
       "    </tr>\n",
       "    <tr>\n",
       "      <th>2</th>\n",
       "      <td>2</td>\n",
       "      <td>29</td>\n",
       "      <td>63</td>\n",
       "      <td>32</td>\n",
       "      <td>Sandy</td>\n",
       "      <td>Millets</td>\n",
       "      <td>24</td>\n",
       "      <td>12</td>\n",
       "      <td>16</td>\n",
       "      <td>17-17-17</td>\n",
       "    </tr>\n",
       "    <tr>\n",
       "      <th>3</th>\n",
       "      <td>3</td>\n",
       "      <td>35</td>\n",
       "      <td>62</td>\n",
       "      <td>54</td>\n",
       "      <td>Sandy</td>\n",
       "      <td>Barley</td>\n",
       "      <td>39</td>\n",
       "      <td>12</td>\n",
       "      <td>4</td>\n",
       "      <td>10-26-26</td>\n",
       "    </tr>\n",
       "    <tr>\n",
       "      <th>4</th>\n",
       "      <td>4</td>\n",
       "      <td>35</td>\n",
       "      <td>58</td>\n",
       "      <td>43</td>\n",
       "      <td>Red</td>\n",
       "      <td>Paddy</td>\n",
       "      <td>37</td>\n",
       "      <td>2</td>\n",
       "      <td>16</td>\n",
       "      <td>DAP</td>\n",
       "    </tr>\n",
       "  </tbody>\n",
       "</table>\n",
       "</div>"
      ],
      "text/plain": [
       "   id  Temparature  Humidity  Moisture Soil Type  Crop Type  Nitrogen  \\\n",
       "0   0           37        70        36    Clayey  Sugarcane        36   \n",
       "1   1           27        69        65     Sandy    Millets        30   \n",
       "2   2           29        63        32     Sandy    Millets        24   \n",
       "3   3           35        62        54     Sandy     Barley        39   \n",
       "4   4           35        58        43       Red      Paddy        37   \n",
       "\n",
       "   Potassium  Phosphorous Fertilizer Name  \n",
       "0          4            5           28-28  \n",
       "1          6           18           28-28  \n",
       "2         12           16        17-17-17  \n",
       "3         12            4        10-26-26  \n",
       "4          2           16             DAP  "
      ]
     },
     "execution_count": 2,
     "metadata": {},
     "output_type": "execute_result"
    }
   ],
   "source": [
    "# import data \n",
    "train = pd.read_csv('/kaggle/input/simulates-real-world-agricultural-data/train.csv')\n",
    "test = pd.read_csv('/kaggle/input/simulates-real-world-agricultural-data/test.csv')\n",
    "# Display the first few rows of the dataset\n",
    "train.head()"
   ]
  },
  {
   "cell_type": "code",
   "execution_count": 3,
   "id": "021aab2c",
   "metadata": {
    "execution": {
     "iopub.execute_input": "2025-07-02T08:44:20.501519Z",
     "iopub.status.busy": "2025-07-02T08:44:20.501203Z",
     "iopub.status.idle": "2025-07-02T08:44:20.511620Z",
     "shell.execute_reply": "2025-07-02T08:44:20.510797Z"
    },
    "papermill": {
     "duration": 0.017817,
     "end_time": "2025-07-02T08:44:20.513261",
     "exception": false,
     "start_time": "2025-07-02T08:44:20.495444",
     "status": "completed"
    },
    "tags": []
   },
   "outputs": [
    {
     "data": {
      "text/html": [
       "<div>\n",
       "<style scoped>\n",
       "    .dataframe tbody tr th:only-of-type {\n",
       "        vertical-align: middle;\n",
       "    }\n",
       "\n",
       "    .dataframe tbody tr th {\n",
       "        vertical-align: top;\n",
       "    }\n",
       "\n",
       "    .dataframe thead th {\n",
       "        text-align: right;\n",
       "    }\n",
       "</style>\n",
       "<table border=\"1\" class=\"dataframe\">\n",
       "  <thead>\n",
       "    <tr style=\"text-align: right;\">\n",
       "      <th></th>\n",
       "      <th>id</th>\n",
       "      <th>Temparature</th>\n",
       "      <th>Humidity</th>\n",
       "      <th>Moisture</th>\n",
       "      <th>Soil Type</th>\n",
       "      <th>Crop Type</th>\n",
       "      <th>Nitrogen</th>\n",
       "      <th>Potassium</th>\n",
       "      <th>Phosphorous</th>\n",
       "    </tr>\n",
       "  </thead>\n",
       "  <tbody>\n",
       "    <tr>\n",
       "      <th>0</th>\n",
       "      <td>750000</td>\n",
       "      <td>31</td>\n",
       "      <td>70</td>\n",
       "      <td>52</td>\n",
       "      <td>Sandy</td>\n",
       "      <td>Wheat</td>\n",
       "      <td>34</td>\n",
       "      <td>11</td>\n",
       "      <td>24</td>\n",
       "    </tr>\n",
       "    <tr>\n",
       "      <th>1</th>\n",
       "      <td>750001</td>\n",
       "      <td>27</td>\n",
       "      <td>62</td>\n",
       "      <td>45</td>\n",
       "      <td>Red</td>\n",
       "      <td>Sugarcane</td>\n",
       "      <td>30</td>\n",
       "      <td>14</td>\n",
       "      <td>15</td>\n",
       "    </tr>\n",
       "    <tr>\n",
       "      <th>2</th>\n",
       "      <td>750002</td>\n",
       "      <td>28</td>\n",
       "      <td>72</td>\n",
       "      <td>28</td>\n",
       "      <td>Clayey</td>\n",
       "      <td>Ground Nuts</td>\n",
       "      <td>14</td>\n",
       "      <td>15</td>\n",
       "      <td>4</td>\n",
       "    </tr>\n",
       "    <tr>\n",
       "      <th>3</th>\n",
       "      <td>750003</td>\n",
       "      <td>37</td>\n",
       "      <td>53</td>\n",
       "      <td>57</td>\n",
       "      <td>Black</td>\n",
       "      <td>Ground Nuts</td>\n",
       "      <td>18</td>\n",
       "      <td>17</td>\n",
       "      <td>36</td>\n",
       "    </tr>\n",
       "    <tr>\n",
       "      <th>4</th>\n",
       "      <td>750004</td>\n",
       "      <td>31</td>\n",
       "      <td>55</td>\n",
       "      <td>32</td>\n",
       "      <td>Red</td>\n",
       "      <td>Pulses</td>\n",
       "      <td>13</td>\n",
       "      <td>19</td>\n",
       "      <td>14</td>\n",
       "    </tr>\n",
       "  </tbody>\n",
       "</table>\n",
       "</div>"
      ],
      "text/plain": [
       "       id  Temparature  Humidity  Moisture Soil Type    Crop Type  Nitrogen  \\\n",
       "0  750000           31        70        52     Sandy        Wheat        34   \n",
       "1  750001           27        62        45       Red    Sugarcane        30   \n",
       "2  750002           28        72        28    Clayey  Ground Nuts        14   \n",
       "3  750003           37        53        57     Black  Ground Nuts        18   \n",
       "4  750004           31        55        32       Red       Pulses        13   \n",
       "\n",
       "   Potassium  Phosphorous  \n",
       "0         11           24  \n",
       "1         14           15  \n",
       "2         15            4  \n",
       "3         17           36  \n",
       "4         19           14  "
      ]
     },
     "execution_count": 3,
     "metadata": {},
     "output_type": "execute_result"
    }
   ],
   "source": [
    "test.head()"
   ]
  },
  {
   "cell_type": "code",
   "execution_count": 4,
   "id": "e3d7b5aa",
   "metadata": {
    "execution": {
     "iopub.execute_input": "2025-07-02T08:44:20.524381Z",
     "iopub.status.busy": "2025-07-02T08:44:20.524073Z",
     "iopub.status.idle": "2025-07-02T08:44:20.529096Z",
     "shell.execute_reply": "2025-07-02T08:44:20.528006Z"
    },
    "papermill": {
     "duration": 0.012406,
     "end_time": "2025-07-02T08:44:20.530650",
     "exception": false,
     "start_time": "2025-07-02T08:44:20.518244",
     "status": "completed"
    },
    "tags": []
   },
   "outputs": [
    {
     "name": "stdout",
     "output_type": "stream",
     "text": [
      "0.33\n"
     ]
    }
   ],
   "source": [
    "print(f'{len(test)/len(train):.2f}')"
   ]
  },
  {
   "cell_type": "code",
   "execution_count": 5,
   "id": "d32b11de",
   "metadata": {
    "execution": {
     "iopub.execute_input": "2025-07-02T08:44:20.542724Z",
     "iopub.status.busy": "2025-07-02T08:44:20.542362Z",
     "iopub.status.idle": "2025-07-02T08:44:20.664999Z",
     "shell.execute_reply": "2025-07-02T08:44:20.663955Z"
    },
    "papermill": {
     "duration": 0.130631,
     "end_time": "2025-07-02T08:44:20.666540",
     "exception": false,
     "start_time": "2025-07-02T08:44:20.535909",
     "status": "completed"
    },
    "tags": []
   },
   "outputs": [
    {
     "name": "stdout",
     "output_type": "stream",
     "text": [
      "id                 0\n",
      "Temparature        0\n",
      "Humidity           0\n",
      "Moisture           0\n",
      "Soil Type          0\n",
      "Crop Type          0\n",
      "Nitrogen           0\n",
      "Potassium          0\n",
      "Phosphorous        0\n",
      "Fertilizer Name    0\n",
      "dtype: int64\n"
     ]
    }
   ],
   "source": [
    "# check any null value\n",
    "print(train.isnull().sum())"
   ]
  },
  {
   "cell_type": "code",
   "execution_count": 6,
   "id": "d6a6aa4d",
   "metadata": {
    "execution": {
     "iopub.execute_input": "2025-07-02T08:44:20.678076Z",
     "iopub.status.busy": "2025-07-02T08:44:20.677768Z",
     "iopub.status.idle": "2025-07-02T08:44:20.815573Z",
     "shell.execute_reply": "2025-07-02T08:44:20.814452Z"
    },
    "papermill": {
     "duration": 0.145573,
     "end_time": "2025-07-02T08:44:20.817225",
     "exception": false,
     "start_time": "2025-07-02T08:44:20.671652",
     "status": "completed"
    },
    "tags": []
   },
   "outputs": [
    {
     "name": "stdout",
     "output_type": "stream",
     "text": [
      "<class 'pandas.core.frame.DataFrame'>\n",
      "RangeIndex: 750000 entries, 0 to 749999\n",
      "Data columns (total 10 columns):\n",
      " #   Column           Non-Null Count   Dtype \n",
      "---  ------           --------------   ----- \n",
      " 0   id               750000 non-null  int64 \n",
      " 1   Temparature      750000 non-null  int64 \n",
      " 2   Humidity         750000 non-null  int64 \n",
      " 3   Moisture         750000 non-null  int64 \n",
      " 4   Soil Type        750000 non-null  object\n",
      " 5   Crop Type        750000 non-null  object\n",
      " 6   Nitrogen         750000 non-null  int64 \n",
      " 7   Potassium        750000 non-null  int64 \n",
      " 8   Phosphorous      750000 non-null  int64 \n",
      " 9   Fertilizer Name  750000 non-null  object\n",
      "dtypes: int64(7), object(3)\n",
      "memory usage: 57.2+ MB\n",
      "None\n"
     ]
    }
   ],
   "source": [
    "# Print the data information\n",
    "print(train.info())"
   ]
  },
  {
   "cell_type": "markdown",
   "id": "efa984f1",
   "metadata": {
    "papermill": {
     "duration": 0.004872,
     "end_time": "2025-07-02T08:44:20.827215",
     "exception": false,
     "start_time": "2025-07-02T08:44:20.822343",
     "status": "completed"
    },
    "tags": []
   },
   "source": [
    "There are 10 columns with 750000 rows, without any null values. 'Soli Type', 'Crop Type' and 'Fertilizer Name' are catogory type, others are numeric type."
   ]
  },
  {
   "cell_type": "code",
   "execution_count": 7,
   "id": "74b79652",
   "metadata": {
    "execution": {
     "iopub.execute_input": "2025-07-02T08:44:20.839292Z",
     "iopub.status.busy": "2025-07-02T08:44:20.839014Z",
     "iopub.status.idle": "2025-07-02T08:44:21.034284Z",
     "shell.execute_reply": "2025-07-02T08:44:21.033118Z"
    },
    "papermill": {
     "duration": 0.202679,
     "end_time": "2025-07-02T08:44:21.035782",
     "exception": false,
     "start_time": "2025-07-02T08:44:20.833103",
     "status": "completed"
    },
    "tags": []
   },
   "outputs": [
    {
     "name": "stdout",
     "output_type": "stream",
     "text": [
      "                  id    Temparature       Humidity       Moisture  \\\n",
      "count  750000.000000  750000.000000  750000.000000  750000.000000   \n",
      "mean   374999.500000      31.503565      61.038912      45.184147   \n",
      "std    216506.495284       4.025574       6.647695      11.794594   \n",
      "min         0.000000      25.000000      50.000000      25.000000   \n",
      "25%    187499.750000      28.000000      55.000000      35.000000   \n",
      "50%    374999.500000      32.000000      61.000000      45.000000   \n",
      "75%    562499.250000      35.000000      67.000000      55.000000   \n",
      "max    749999.000000      38.000000      72.000000      65.000000   \n",
      "\n",
      "            Nitrogen      Potassium    Phosphorous  \n",
      "count  750000.000000  750000.000000  750000.000000  \n",
      "mean       23.093808       9.478296      21.073227  \n",
      "std        11.216125       5.765622      12.346831  \n",
      "min         4.000000       0.000000       0.000000  \n",
      "25%        13.000000       4.000000      10.000000  \n",
      "50%        23.000000       9.000000      21.000000  \n",
      "75%        33.000000      14.000000      32.000000  \n",
      "max        42.000000      19.000000      42.000000  \n"
     ]
    }
   ],
   "source": [
    "# Print statistics\n",
    "print(train.describe())"
   ]
  },
  {
   "cell_type": "markdown",
   "id": "70bb6715",
   "metadata": {
    "papermill": {
     "duration": 0.004834,
     "end_time": "2025-07-02T08:44:21.045893",
     "exception": false,
     "start_time": "2025-07-02T08:44:21.041059",
     "status": "completed"
    },
    "tags": []
   },
   "source": [
    "Base on the describe, the data range is resonable,so no normalization needed."
   ]
  },
  {
   "cell_type": "markdown",
   "id": "5bdcffe9",
   "metadata": {
    "papermill": {
     "duration": 0.004865,
     "end_time": "2025-07-02T08:44:21.055791",
     "exception": false,
     "start_time": "2025-07-02T08:44:21.050926",
     "status": "completed"
    },
    "tags": []
   },
   "source": [
    "# Data Preprocessing"
   ]
  },
  {
   "cell_type": "markdown",
   "id": "e030dfbe",
   "metadata": {
    "papermill": {
     "duration": 0.004713,
     "end_time": "2025-07-02T08:44:21.065436",
     "exception": false,
     "start_time": "2025-07-02T08:44:21.060723",
     "status": "completed"
    },
    "tags": []
   },
   "source": [
    "### Encode Categorical Variables"
   ]
  },
  {
   "cell_type": "code",
   "execution_count": 8,
   "id": "1f96cfac",
   "metadata": {
    "execution": {
     "iopub.execute_input": "2025-07-02T08:44:21.077052Z",
     "iopub.status.busy": "2025-07-02T08:44:21.076255Z",
     "iopub.status.idle": "2025-07-02T08:44:21.543089Z",
     "shell.execute_reply": "2025-07-02T08:44:21.542129Z"
    },
    "papermill": {
     "duration": 0.474384,
     "end_time": "2025-07-02T08:44:21.544840",
     "exception": false,
     "start_time": "2025-07-02T08:44:21.070456",
     "status": "completed"
    },
    "tags": []
   },
   "outputs": [],
   "source": [
    "le_soil = LabelEncoder()\n",
    "le_crop = LabelEncoder()\n",
    "le_fert = LabelEncoder()\n",
    "\n",
    "train['Soil Type'] = le_soil.fit_transform(train['Soil Type'])\n",
    "train['Crop Type'] = le_crop.fit_transform(train['Crop Type'])\n",
    "train['Fertilizer Name'] = le_fert.fit_transform(train['Fertilizer Name'])\n",
    "\n",
    "test['Soil Type'] = le_soil.transform(test['Soil Type'])\n",
    "test['Crop Type'] = le_crop.transform(test['Crop Type'])"
   ]
  },
  {
   "cell_type": "code",
   "execution_count": 9,
   "id": "2522da69",
   "metadata": {
    "execution": {
     "iopub.execute_input": "2025-07-02T08:44:21.556609Z",
     "iopub.status.busy": "2025-07-02T08:44:21.556285Z",
     "iopub.status.idle": "2025-07-02T08:44:21.568215Z",
     "shell.execute_reply": "2025-07-02T08:44:21.567417Z"
    },
    "papermill": {
     "duration": 0.019685,
     "end_time": "2025-07-02T08:44:21.569877",
     "exception": false,
     "start_time": "2025-07-02T08:44:21.550192",
     "status": "completed"
    },
    "tags": []
   },
   "outputs": [],
   "source": [
    "# Save ID for submission\n",
    "test_ids = test['id']\n",
    "\n",
    "# Drop ID before prediction\n",
    "X_test = test.drop(columns=['id'])"
   ]
  },
  {
   "cell_type": "code",
   "execution_count": 10,
   "id": "311682c6",
   "metadata": {
    "execution": {
     "iopub.execute_input": "2025-07-02T08:44:21.581688Z",
     "iopub.status.busy": "2025-07-02T08:44:21.581377Z",
     "iopub.status.idle": "2025-07-02T08:44:21.604513Z",
     "shell.execute_reply": "2025-07-02T08:44:21.603353Z"
    },
    "papermill": {
     "duration": 0.030929,
     "end_time": "2025-07-02T08:44:21.606227",
     "exception": false,
     "start_time": "2025-07-02T08:44:21.575298",
     "status": "completed"
    },
    "tags": []
   },
   "outputs": [],
   "source": [
    "# Define features and target\n",
    "X_train = train.drop(['id','Fertilizer Name'], axis=1)\n",
    "y_train = train['Fertilizer Name']"
   ]
  },
  {
   "cell_type": "markdown",
   "id": "f202ddf7",
   "metadata": {
    "papermill": {
     "duration": 0.004922,
     "end_time": "2025-07-02T08:44:21.616436",
     "exception": false,
     "start_time": "2025-07-02T08:44:21.611514",
     "status": "completed"
    },
    "tags": []
   },
   "source": [
    "### Check data balance"
   ]
  },
  {
   "cell_type": "code",
   "execution_count": 11,
   "id": "da0a82c2",
   "metadata": {
    "execution": {
     "iopub.execute_input": "2025-07-02T08:44:21.627907Z",
     "iopub.status.busy": "2025-07-02T08:44:21.627597Z",
     "iopub.status.idle": "2025-07-02T08:44:22.053883Z",
     "shell.execute_reply": "2025-07-02T08:44:22.053000Z"
    },
    "papermill": {
     "duration": 0.433679,
     "end_time": "2025-07-02T08:44:22.055315",
     "exception": false,
     "start_time": "2025-07-02T08:44:21.621636",
     "status": "completed"
    },
    "tags": []
   },
   "outputs": [
    {
     "data": {
      "text/plain": [
       "<Axes: xlabel='Fertilizer Name'>"
      ]
     },
     "execution_count": 11,
     "metadata": {},
     "output_type": "execute_result"
    },
    {
     "data": {
      "image/png": "[encoded data removed]",
      "text/plain": [
       "<Figure size 640x480 with 1 Axes>"
      ]
     },
     "metadata": {},
     "output_type": "display_data"
    }
   ],
   "source": [
    "train['Fertilizer Name'].value_counts(normalize=True).plot(kind='bar')"
   ]
  },
  {
   "cell_type": "markdown",
   "id": "144a5d17",
   "metadata": {
    "papermill": {
     "duration": 0.005338,
     "end_time": "2025-07-02T08:44:22.066323",
     "exception": false,
     "start_time": "2025-07-02T08:44:22.060985",
     "status": "completed"
    },
    "tags": []
   },
   "source": [
    "The class distribution for the target variable 'Fertilizer Name' is fairly balanced."
   ]
  },
  {
   "cell_type": "markdown",
   "id": "81de1fd1",
   "metadata": {
    "papermill": {
     "duration": 0.005187,
     "end_time": "2025-07-02T08:44:22.076804",
     "exception": false,
     "start_time": "2025-07-02T08:44:22.071617",
     "status": "completed"
    },
    "tags": []
   },
   "source": [
    "# Model Training"
   ]
  },
  {
   "cell_type": "code",
   "execution_count": 12,
   "id": "41f25228",
   "metadata": {
    "execution": {
     "iopub.execute_input": "2025-07-02T08:44:22.089569Z",
     "iopub.status.busy": "2025-07-02T08:44:22.088671Z",
     "iopub.status.idle": "2025-07-02T08:44:22.094577Z",
     "shell.execute_reply": "2025-07-02T08:44:22.093642Z"
    },
    "papermill": {
     "duration": 0.014018,
     "end_time": "2025-07-02T08:44:22.096202",
     "exception": false,
     "start_time": "2025-07-02T08:44:22.082184",
     "status": "completed"
    },
    "tags": []
   },
   "outputs": [],
   "source": [
    "def evaluate_metrics(y_true, y_pred):\n",
    "    print(\"Accuracy:\", round(accuracy_score(y_true, y_pred), 4))\n",
    "    print(\"F1-score:\", round(f1_score(y_true, y_pred, average=\"weighted\"), 4))\n",
    "    print(\"Precision:\", round(precision_score(y_true, y_pred, average=\"weighted\"), 4))\n",
    "    print(\"Recall (Sensitivity):\", round(recall_score(y_true, y_pred, average=\"weighted\"), 4))\n",
    "    print(\"Mean Squared Error:\", round(mean_squared_error(y_true, y_pred), 4))\n",
    "    print(\"\\nClassification Report:\")\n",
    "    print(classification_report(y_true, y_pred, zero_division=0))"
   ]
  },
  {
   "cell_type": "code",
   "execution_count": 13,
   "id": "ff38a386",
   "metadata": {
    "execution": {
     "iopub.execute_input": "2025-07-02T08:44:22.108921Z",
     "iopub.status.busy": "2025-07-02T08:44:22.108386Z",
     "iopub.status.idle": "2025-07-02T08:44:22.112497Z",
     "shell.execute_reply": "2025-07-02T08:44:22.111656Z"
    },
    "papermill": {
     "duration": 0.011773,
     "end_time": "2025-07-02T08:44:22.113856",
     "exception": false,
     "start_time": "2025-07-02T08:44:22.102083",
     "status": "completed"
    },
    "tags": []
   },
   "outputs": [],
   "source": [
    "# Use cross-validation-friendly split for balanced classes\n",
    "cv = StratifiedKFold(n_splits=5, shuffle=True, random_state=42)"
   ]
  },
  {
   "cell_type": "markdown",
   "id": "277970bb",
   "metadata": {
    "papermill": {
     "duration": 0.005389,
     "end_time": "2025-07-02T08:44:22.124904",
     "exception": false,
     "start_time": "2025-07-02T08:44:22.119515",
     "status": "completed"
    },
    "tags": []
   },
   "source": [
    "### Model 1: XGBoost Model"
   ]
  },
  {
   "cell_type": "code",
   "execution_count": 14,
   "id": "8b37f460",
   "metadata": {
    "execution": {
     "iopub.execute_input": "2025-07-02T08:44:22.137038Z",
     "iopub.status.busy": "2025-07-02T08:44:22.136762Z",
     "iopub.status.idle": "2025-07-02T08:46:59.089390Z",
     "shell.execute_reply": "2025-07-02T08:46:59.088537Z"
    },
    "papermill": {
     "duration": 156.96066,
     "end_time": "2025-07-02T08:46:59.091238",
     "exception": false,
     "start_time": "2025-07-02T08:44:22.130578",
     "status": "completed"
    },
    "tags": []
   },
   "outputs": [
    {
     "name": "stdout",
     "output_type": "stream",
     "text": [
      "Cross-Validation Results:\n",
      "Accuracy: 0.1864\n",
      "F1-score: 0.1767\n",
      "Precision: 0.1871\n",
      "Recall (Sensitivity): 0.1864\n",
      "Mean Squared Error: 6.7285\n",
      "\n",
      "Classification Report:\n",
      "              precision    recall  f1-score   support\n",
      "\n",
      "           0       0.19      0.23      0.21    113887\n",
      "           1       0.19      0.27      0.22    114436\n",
      "           2       0.19      0.23      0.21    112453\n",
      "           3       0.18      0.18      0.18    110889\n",
      "           4       0.18      0.22      0.20    111158\n",
      "           5       0.20      0.09      0.12     94860\n",
      "           6       0.19      0.04      0.07     92317\n",
      "\n",
      "    accuracy                           0.19    750000\n",
      "   macro avg       0.19      0.18      0.17    750000\n",
      "weighted avg       0.19      0.19      0.18    750000\n",
      "\n"
     ]
    },
    {
     "data": {
      "image/png": "[encoded data removed]",
      "text/plain": [
       "<Figure size 640x480 with 2 Axes>"
      ]
     },
     "metadata": {},
     "output_type": "display_data"
    }
   ],
   "source": [
    "# Initialize XGB model\n",
    "xgb = XGBClassifier(\n",
    "    objective='multi:softmax',\n",
    "    num_class=7,\n",
    "    random_state=42,\n",
    "    n_estimators=150,\n",
    "    learning_rate=0.1,\n",
    "    max_depth=5\n",
    ")\n",
    "\n",
    "# Cross-validation setup (using your predefined cv)\n",
    "cv = StratifiedKFold(n_splits=5, shuffle=True, random_state=42)\n",
    "\n",
    "# Cross-validated predictions\n",
    "cv_preds = cross_val_predict(xgb, X_train, y_train, cv=cv)\n",
    "\n",
    "# Evaluate metrics using your function\n",
    "print(\"Cross-Validation Results:\")\n",
    "evaluate_metrics(y_train, cv_preds)\n",
    "\n",
    "# Confusion matrix\n",
    "cm = confusion_matrix(y_train, cv_preds)\n",
    "disp = ConfusionMatrixDisplay(confusion_matrix=cm)\n",
    "disp.plot(cmap=plt.cm.Blues, values_format='d')\n",
    "plt.title('XGBoost Confusion Matrix (Cross-Validation)')\n",
    "plt.show()\n"
   ]
  },
  {
   "cell_type": "code",
   "execution_count": 15,
   "id": "b1042ddd",
   "metadata": {
    "execution": {
     "iopub.execute_input": "2025-07-02T08:46:59.106660Z",
     "iopub.status.busy": "2025-07-02T08:46:59.106369Z",
     "iopub.status.idle": "2025-07-02T08:47:35.378143Z",
     "shell.execute_reply": "2025-07-02T08:47:35.377168Z"
    },
    "papermill": {
     "duration": 36.288384,
     "end_time": "2025-07-02T08:47:35.386833",
     "exception": false,
     "start_time": "2025-07-02T08:46:59.098449",
     "status": "completed"
    },
    "tags": []
   },
   "outputs": [
    {
     "data": {
      "text/html": [
       "<style>#sk-container-id-1 {color: black;background-color: white;}#sk-container-id-1 pre{padding: 0;}#sk-container-id-1 div.sk-toggleable {background-color: white;}#sk-container-id-1 label.sk-toggleable__label {cursor: pointer;display: block;width: 100%;margin-bottom: 0;padding: 0.3em;box-sizing: border-box;text-align: center;}#sk-container-id-1 label.sk-toggleable__label-arrow:before {content: \"▸\";float: left;margin-right: 0.25em;color: #696969;}#sk-container-id-1 label.sk-toggleable__label-arrow:hover:before {color: black;}#sk-container-id-1 div.sk-estimator:hover label.sk-toggleable__label-arrow:before {color: black;}#sk-container-id-1 div.sk-toggleable__content {max-height: 0;max-width: 0;overflow: hidden;text-align: left;background-color: #f0f8ff;}#sk-container-id-1 div.sk-toggleable__content pre {margin: 0.2em;color: black;border-radius: 0.25em;background-color: #f0f8ff;}#sk-container-id-1 input.sk-toggleable__control:checked~div.sk-toggleable__content {max-height: 200px;max-width: 100%;overflow: auto;}#sk-container-id-1 input.sk-toggleable__control:checked~label.sk-toggleable__label-arrow:before {content: \"▾\";}#sk-container-id-1 div.sk-estimator input.sk-toggleable__control:checked~label.sk-toggleable__label {background-color: #d4ebff;}#sk-container-id-1 div.sk-label input.sk-toggleable__control:checked~label.sk-toggleable__label {background-color: #d4ebff;}#sk-container-id-1 input.sk-hidden--visually {border: 0;clip: rect(1px 1px 1px 1px);clip: rect(1px, 1px, 1px, 1px);height: 1px;margin: -1px;overflow: hidden;padding: 0;position: absolute;width: 1px;}#sk-container-id-1 div.sk-estimator {font-family: monospace;background-color: #f0f8ff;border: 1px dotted black;border-radius: 0.25em;box-sizing: border-box;margin-bottom: 0.5em;}#sk-container-id-1 div.sk-estimator:hover {background-color: #d4ebff;}#sk-container-id-1 div.sk-parallel-item::after {content: \"\";width: 100%;border-bottom: 1px solid gray;flex-grow: 1;}#sk-container-id-1 div.sk-label:hover label.sk-toggleable__label {background-color: #d4ebff;}#sk-container-id-1 div.sk-serial::before {content: \"\";position: absolute;border-left: 1px solid gray;box-sizing: border-box;top: 0;bottom: 0;left: 50%;z-index: 0;}#sk-container-id-1 div.sk-serial {display: flex;flex-direction: column;align-items: center;background-color: white;padding-right: 0.2em;padding-left: 0.2em;position: relative;}#sk-container-id-1 div.sk-item {position: relative;z-index: 1;}#sk-container-id-1 div.sk-parallel {display: flex;align-items: stretch;justify-content: center;background-color: white;position: relative;}#sk-container-id-1 div.sk-item::before, #sk-container-id-1 div.sk-parallel-item::before {content: \"\";position: absolute;border-left: 1px solid gray;box-sizing: border-box;top: 0;bottom: 0;left: 50%;z-index: -1;}#sk-container-id-1 div.sk-parallel-item {display: flex;flex-direction: column;z-index: 1;position: relative;background-color: white;}#sk-container-id-1 div.sk-parallel-item:first-child::after {align-self: flex-end;width: 50%;}#sk-container-id-1 div.sk-parallel-item:last-child::after {align-self: flex-start;width: 50%;}#sk-container-id-1 div.sk-parallel-item:only-child::after {width: 0;}#sk-container-id-1 div.sk-dashed-wrapped {border: 1px dashed gray;margin: 0 0.4em 0.5em 0.4em;box-sizing: border-box;padding-bottom: 0.4em;background-color: white;}#sk-container-id-1 div.sk-label label {font-family: monospace;font-weight: bold;display: inline-block;line-height: 1.2em;}#sk-container-id-1 div.sk-label-container {text-align: center;}#sk-container-id-1 div.sk-container {/* jupyter's `normalize.less` sets `[hidden] { display: none; }` but bootstrap.min.css set `[hidden] { display: none !important; }` so we also need the `!important` here to be able to override the default hidden behavior on the sphinx rendered scikit-learn.org. See: https://github.com/scikit-learn/scikit-learn/issues/21755 */display: inline-block !important;position: relative;}#sk-container-id-1 div.sk-text-repr-fallback {display: none;}</style><div id=\"sk-container-id-1\" class=\"sk-top-container\"><div class=\"sk-text-repr-fallback\"><pre>XGBClassifier(base_score=None, booster=None, callbacks=None,\n",
       "              colsample_bylevel=None, colsample_bynode=None,\n",
       "              colsample_bytree=None, device=None, early_stopping_rounds=None,\n",
       "              enable_categorical=False, eval_metric=None, feature_types=None,\n",
       "              gamma=None, grow_policy=None, importance_type=None,\n",
       "              interaction_constraints=None, learning_rate=0.1, max_bin=None,\n",
       "              max_cat_threshold=None, max_cat_to_onehot=None,\n",
       "              max_delta_step=None, max_depth=5, max_leaves=None,\n",
       "              min_child_weight=None, missing=nan, monotone_constraints=None,\n",
       "              multi_strategy=None, n_estimators=150, n_jobs=None, num_class=7,\n",
       "              num_parallel_tree=None, ...)</pre><b>In a Jupyter environment, please rerun this cell to show the HTML representation or trust the notebook. <br />On GitHub, the HTML representation is unable to render, please try loading this page with nbviewer.org.</b></div><div class=\"sk-container\" hidden><div class=\"sk-item\"><div class=\"sk-estimator sk-toggleable\"><input class=\"sk-toggleable__control sk-hidden--visually\" id=\"sk-estimator-id-1\" type=\"checkbox\" checked><label for=\"sk-estimator-id-1\" class=\"sk-toggleable__label sk-toggleable__label-arrow\">XGBClassifier</label><div class=\"sk-toggleable__content\"><pre>XGBClassifier(base_score=None, booster=None, callbacks=None,\n",
       "              colsample_bylevel=None, colsample_bynode=None,\n",
       "              colsample_bytree=None, device=None, early_stopping_rounds=None,\n",
       "              enable_categorical=False, eval_metric=None, feature_types=None,\n",
       "              gamma=None, grow_policy=None, importance_type=None,\n",
       "              interaction_constraints=None, learning_rate=0.1, max_bin=None,\n",
       "              max_cat_threshold=None, max_cat_to_onehot=None,\n",
       "              max_delta_step=None, max_depth=5, max_leaves=None,\n",
       "              min_child_weight=None, missing=nan, monotone_constraints=None,\n",
       "              multi_strategy=None, n_estimators=150, n_jobs=None, num_class=7,\n",
       "              num_parallel_tree=None, ...)</pre></div></div></div></div></div>"
      ],
      "text/plain": [
       "XGBClassifier(base_score=None, booster=None, callbacks=None,\n",
       "              colsample_bylevel=None, colsample_bynode=None,\n",
       "              colsample_bytree=None, device=None, early_stopping_rounds=None,\n",
       "              enable_categorical=False, eval_metric=None, feature_types=None,\n",
       "              gamma=None, grow_policy=None, importance_type=None,\n",
       "              interaction_constraints=None, learning_rate=0.1, max_bin=None,\n",
       "              max_cat_threshold=None, max_cat_to_onehot=None,\n",
       "              max_delta_step=None, max_depth=5, max_leaves=None,\n",
       "              min_child_weight=None, missing=nan, monotone_constraints=None,\n",
       "              multi_strategy=None, n_estimators=150, n_jobs=None, num_class=7,\n",
       "              num_parallel_tree=None, ...)"
      ]
     },
     "execution_count": 15,
     "metadata": {},
     "output_type": "execute_result"
    }
   ],
   "source": [
    "xgb.fit(X_train, y_train)"
   ]
  },
  {
   "cell_type": "code",
   "execution_count": 16,
   "id": "5a5a35a4",
   "metadata": {
    "execution": {
     "iopub.execute_input": "2025-07-02T08:47:35.402677Z",
     "iopub.status.busy": "2025-07-02T08:47:35.402346Z",
     "iopub.status.idle": "2025-07-02T08:47:37.426332Z",
     "shell.execute_reply": "2025-07-02T08:47:37.425379Z"
    },
    "papermill": {
     "duration": 2.033953,
     "end_time": "2025-07-02T08:47:37.427971",
     "exception": false,
     "start_time": "2025-07-02T08:47:35.394018",
     "status": "completed"
    },
    "tags": []
   },
   "outputs": [],
   "source": [
    "probs = xgb.predict_proba(X_test)\n",
    "top3_preds = np.argsort(probs, axis=1)[:, -3:][:, ::-1]"
   ]
  },
  {
   "cell_type": "code",
   "execution_count": 17,
   "id": "91ebcfde",
   "metadata": {
    "execution": {
     "iopub.execute_input": "2025-07-02T08:47:37.445955Z",
     "iopub.status.busy": "2025-07-02T08:47:37.445644Z",
     "iopub.status.idle": "2025-07-02T08:48:01.192942Z",
     "shell.execute_reply": "2025-07-02T08:48:01.191986Z"
    },
    "papermill": {
     "duration": 23.757091,
     "end_time": "2025-07-02T08:48:01.194575",
     "exception": false,
     "start_time": "2025-07-02T08:47:37.437484",
     "status": "completed"
    },
    "tags": []
   },
   "outputs": [],
   "source": [
    "top3_names = np.array([le_fert.inverse_transform(row) for row in top3_preds])"
   ]
  },
  {
   "cell_type": "code",
   "execution_count": 18,
   "id": "71ee9812",
   "metadata": {
    "execution": {
     "iopub.execute_input": "2025-07-02T08:48:01.211158Z",
     "iopub.status.busy": "2025-07-02T08:48:01.210852Z",
     "iopub.status.idle": "2025-07-02T08:48:01.926381Z",
     "shell.execute_reply": "2025-07-02T08:48:01.925399Z"
    },
    "papermill": {
     "duration": 0.725593,
     "end_time": "2025-07-02T08:48:01.927984",
     "exception": false,
     "start_time": "2025-07-02T08:48:01.202391",
     "status": "completed"
    },
    "tags": []
   },
   "outputs": [
    {
     "name": "stdout",
     "output_type": "stream",
     "text": [
      "Submission saved as 'submission.csv'\n"
     ]
    }
   ],
   "source": [
    "# Join the top 3 fertilizer names into space-separated strings per row\n",
    "fertilizer_strings = [' '.join(row) for row in top3_names]\n",
    "\n",
    "# Build submission DataFrame\n",
    "submission = pd.DataFrame({\n",
    "    'id': test_ids,\n",
    "    'Fertilizer Name': fertilizer_strings\n",
    "})\n",
    "\n",
    "# Save to CSV with header\n",
    "submission.to_csv('submission.csv', index=False)\n",
    "print(\"Submission saved as 'submission.csv'\")"
   ]
  },
  {
   "cell_type": "code",
   "execution_count": 19,
   "id": "bc17c63e",
   "metadata": {
    "execution": {
     "iopub.execute_input": "2025-07-02T08:48:01.944501Z",
     "iopub.status.busy": "2025-07-02T08:48:01.943836Z",
     "iopub.status.idle": "2025-07-02T08:48:01.951766Z",
     "shell.execute_reply": "2025-07-02T08:48:01.951055Z"
    },
    "papermill": {
     "duration": 0.017379,
     "end_time": "2025-07-02T08:48:01.953018",
     "exception": false,
     "start_time": "2025-07-02T08:48:01.935639",
     "status": "completed"
    },
    "tags": []
   },
   "outputs": [
    {
     "data": {
      "text/html": [
       "<div>\n",
       "<style scoped>\n",
       "    .dataframe tbody tr th:only-of-type {\n",
       "        vertical-align: middle;\n",
       "    }\n",
       "\n",
       "    .dataframe tbody tr th {\n",
       "        vertical-align: top;\n",
       "    }\n",
       "\n",
       "    .dataframe thead th {\n",
       "        text-align: right;\n",
       "    }\n",
       "</style>\n",
       "<table border=\"1\" class=\"dataframe\">\n",
       "  <thead>\n",
       "    <tr style=\"text-align: right;\">\n",
       "      <th></th>\n",
       "      <th>id</th>\n",
       "      <th>Fertilizer Name</th>\n",
       "    </tr>\n",
       "  </thead>\n",
       "  <tbody>\n",
       "    <tr>\n",
       "      <th>0</th>\n",
       "      <td>750000</td>\n",
       "      <td>28-28 DAP 14-35-14</td>\n",
       "    </tr>\n",
       "    <tr>\n",
       "      <th>1</th>\n",
       "      <td>750001</td>\n",
       "      <td>17-17-17 20-20 14-35-14</td>\n",
       "    </tr>\n",
       "    <tr>\n",
       "      <th>2</th>\n",
       "      <td>750002</td>\n",
       "      <td>14-35-14 10-26-26 28-28</td>\n",
       "    </tr>\n",
       "    <tr>\n",
       "      <th>3</th>\n",
       "      <td>750003</td>\n",
       "      <td>14-35-14 17-17-17 10-26-26</td>\n",
       "    </tr>\n",
       "    <tr>\n",
       "      <th>4</th>\n",
       "      <td>750004</td>\n",
       "      <td>20-20 17-17-17 10-26-26</td>\n",
       "    </tr>\n",
       "  </tbody>\n",
       "</table>\n",
       "</div>"
      ],
      "text/plain": [
       "       id             Fertilizer Name\n",
       "0  750000          28-28 DAP 14-35-14\n",
       "1  750001     17-17-17 20-20 14-35-14\n",
       "2  750002     14-35-14 10-26-26 28-28\n",
       "3  750003  14-35-14 17-17-17 10-26-26\n",
       "4  750004     20-20 17-17-17 10-26-26"
      ]
     },
     "execution_count": 19,
     "metadata": {},
     "output_type": "execute_result"
    }
   ],
   "source": [
    "submission.head()"
   ]
  }
 ],
 "metadata": {
  "kaggle": {
   "accelerator": "none",
   "dataSources": [
    {
     "databundleVersionId": 12184666,
     "sourceId": 91717,
     "sourceType": "competition"
    },
    {
     "datasetId": 7660034,
     "sourceId": 12162490,
     "sourceType": "datasetVersion"
    }
   ],
   "dockerImageVersionId": 31040,
   "isGpuEnabled": false,
   "isInternetEnabled": true,
   "language": "python",
   "sourceType": "notebook"
  },
  "kernelspec": {
   "display_name": "Python 3",
   "language": "python",
   "name": "python3"
  },
  "language_info": {
   "codemirror_mode": {
    "name": "ipython",
    "version": 3
   },
   "file_extension": ".py",
   "mimetype": "text/x-python",
   "name": "python",
   "nbconvert_exporter": "python",
   "pygments_lexer": "ipython3",
   "version": "3.11.11"
  },
  "papermill": {
   "default_parameters": {},
   "duration": 232.768349,
   "end_time": "2025-07-02T08:48:02.681330",
   "environment_variables": {},
   "exception": null,
   "input_path": "__notebook__.ipynb",
   "output_path": "__notebook__.ipynb",
   "parameters": {},
   "start_time": "2025-07-02T08:44:09.912981",
   "version": "2.6.0"
  }
 },
 "nbformat": 4,
 "nbformat_minor": 5
}
