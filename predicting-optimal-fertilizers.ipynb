{
 "cells": [
  {
   "cell_type": "markdown",
   "id": "3ad4d127",
   "metadata": {
    "papermill": {
     "duration": 0.003762,
     "end_time": "2025-06-14T09:27:53.381909",
     "exception": false,
     "start_time": "2025-06-14T09:27:53.378147",
     "status": "completed"
    },
    "tags": []
   },
   "source": [
    "# Data Processing"
   ]
  },
  {
   "cell_type": "markdown",
   "id": "653502d8",
   "metadata": {
    "papermill": {
     "duration": 0.002701,
     "end_time": "2025-06-14T09:27:53.388102",
     "exception": false,
     "start_time": "2025-06-14T09:27:53.385401",
     "status": "completed"
    },
    "tags": []
   },
   "source": [
    "## Explore data"
   ]
  },
  {
   "cell_type": "code",
   "execution_count": 1,
   "id": "5ede3590",
   "metadata": {
    "execution": {
     "iopub.execute_input": "2025-06-14T09:27:53.395948Z",
     "iopub.status.busy": "2025-06-14T09:27:53.395512Z",
     "iopub.status.idle": "2025-06-14T09:27:57.104272Z",
     "shell.execute_reply": "2025-06-14T09:27:57.103367Z"
    },
    "papermill": {
     "duration": 3.715001,
     "end_time": "2025-06-14T09:27:57.106050",
     "exception": false,
     "start_time": "2025-06-14T09:27:53.391049",
     "status": "completed"
    },
    "tags": []
   },
   "outputs": [],
   "source": [
    "import pandas as pd\n",
    "from sklearn.preprocessing import LabelEncoder"
   ]
  },
  {
   "cell_type": "code",
   "execution_count": 2,
   "id": "4f76587f",
   "metadata": {
    "_cell_guid": "b1076dfc-b9ad-4769-8c92-a6c4dae69d19",
    "_uuid": "8f2839f25d086af736a60e9eeb907d3b93b6e0e5",
    "execution": {
     "iopub.execute_input": "2025-06-14T09:27:57.114278Z",
     "iopub.status.busy": "2025-06-14T09:27:57.113752Z",
     "iopub.status.idle": "2025-06-14T09:27:58.738749Z",
     "shell.execute_reply": "2025-06-14T09:27:58.737753Z"
    },
    "papermill": {
     "duration": 1.630983,
     "end_time": "2025-06-14T09:27:58.740468",
     "exception": false,
     "start_time": "2025-06-14T09:27:57.109485",
     "status": "completed"
    },
    "tags": []
   },
   "outputs": [
    {
     "data": {
      "text/html": [
       "<div>\n",
       "<style scoped>\n",
       "    .dataframe tbody tr th:only-of-type {\n",
       "        vertical-align: middle;\n",
       "    }\n",
       "\n",
       "    .dataframe tbody tr th {\n",
       "        vertical-align: top;\n",
       "    }\n",
       "\n",
       "    .dataframe thead th {\n",
       "        text-align: right;\n",
       "    }\n",
       "</style>\n",
       "<table border=\"1\" class=\"dataframe\">\n",
       "  <thead>\n",
       "    <tr style=\"text-align: right;\">\n",
       "      <th></th>\n",
       "      <th>id</th>\n",
       "      <th>Temparature</th>\n",
       "      <th>Humidity</th>\n",
       "      <th>Moisture</th>\n",
       "      <th>Soil Type</th>\n",
       "      <th>Crop Type</th>\n",
       "      <th>Nitrogen</th>\n",
       "      <th>Potassium</th>\n",
       "      <th>Phosphorous</th>\n",
       "      <th>Fertilizer Name</th>\n",
       "    </tr>\n",
       "  </thead>\n",
       "  <tbody>\n",
       "    <tr>\n",
       "      <th>0</th>\n",
       "      <td>0</td>\n",
       "      <td>37</td>\n",
       "      <td>70</td>\n",
       "      <td>36</td>\n",
       "      <td>Clayey</td>\n",
       "      <td>Sugarcane</td>\n",
       "      <td>36</td>\n",
       "      <td>4</td>\n",
       "      <td>5</td>\n",
       "      <td>28-28</td>\n",
       "    </tr>\n",
       "    <tr>\n",
       "      <th>1</th>\n",
       "      <td>1</td>\n",
       "      <td>27</td>\n",
       "      <td>69</td>\n",
       "      <td>65</td>\n",
       "      <td>Sandy</td>\n",
       "      <td>Millets</td>\n",
       "      <td>30</td>\n",
       "      <td>6</td>\n",
       "      <td>18</td>\n",
       "      <td>28-28</td>\n",
       "    </tr>\n",
       "    <tr>\n",
       "      <th>2</th>\n",
       "      <td>2</td>\n",
       "      <td>29</td>\n",
       "      <td>63</td>\n",
       "      <td>32</td>\n",
       "      <td>Sandy</td>\n",
       "      <td>Millets</td>\n",
       "      <td>24</td>\n",
       "      <td>12</td>\n",
       "      <td>16</td>\n",
       "      <td>17-17-17</td>\n",
       "    </tr>\n",
       "    <tr>\n",
       "      <th>3</th>\n",
       "      <td>3</td>\n",
       "      <td>35</td>\n",
       "      <td>62</td>\n",
       "      <td>54</td>\n",
       "      <td>Sandy</td>\n",
       "      <td>Barley</td>\n",
       "      <td>39</td>\n",
       "      <td>12</td>\n",
       "      <td>4</td>\n",
       "      <td>10-26-26</td>\n",
       "    </tr>\n",
       "    <tr>\n",
       "      <th>4</th>\n",
       "      <td>4</td>\n",
       "      <td>35</td>\n",
       "      <td>58</td>\n",
       "      <td>43</td>\n",
       "      <td>Red</td>\n",
       "      <td>Paddy</td>\n",
       "      <td>37</td>\n",
       "      <td>2</td>\n",
       "      <td>16</td>\n",
       "      <td>DAP</td>\n",
       "    </tr>\n",
       "  </tbody>\n",
       "</table>\n",
       "</div>"
      ],
      "text/plain": [
       "   id  Temparature  Humidity  Moisture Soil Type  Crop Type  Nitrogen  \\\n",
       "0   0           37        70        36    Clayey  Sugarcane        36   \n",
       "1   1           27        69        65     Sandy    Millets        30   \n",
       "2   2           29        63        32     Sandy    Millets        24   \n",
       "3   3           35        62        54     Sandy     Barley        39   \n",
       "4   4           35        58        43       Red      Paddy        37   \n",
       "\n",
       "   Potassium  Phosphorous Fertilizer Name  \n",
       "0          4            5           28-28  \n",
       "1          6           18           28-28  \n",
       "2         12           16        17-17-17  \n",
       "3         12            4        10-26-26  \n",
       "4          2           16             DAP  "
      ]
     },
     "execution_count": 2,
     "metadata": {},
     "output_type": "execute_result"
    }
   ],
   "source": [
    "# import data \n",
    "train = pd.read_csv('/kaggle/input/simulates-real-world-agricultural-data/train.csv')\n",
    "test = pd.read_csv('/kaggle/input/simulates-real-world-agricultural-data/test.csv')\n",
    "# Display the first few rows of the dataset\n",
    "train.head()"
   ]
  },
  {
   "cell_type": "code",
   "execution_count": 3,
   "id": "afba8798",
   "metadata": {
    "execution": {
     "iopub.execute_input": "2025-06-14T09:27:58.749494Z",
     "iopub.status.busy": "2025-06-14T09:27:58.748468Z",
     "iopub.status.idle": "2025-06-14T09:27:58.874840Z",
     "shell.execute_reply": "2025-06-14T09:27:58.873806Z"
    },
    "papermill": {
     "duration": 0.132415,
     "end_time": "2025-06-14T09:27:58.876602",
     "exception": false,
     "start_time": "2025-06-14T09:27:58.744187",
     "status": "completed"
    },
    "tags": []
   },
   "outputs": [
    {
     "name": "stdout",
     "output_type": "stream",
     "text": [
      "id                 0\n",
      "Temparature        0\n",
      "Humidity           0\n",
      "Moisture           0\n",
      "Soil Type          0\n",
      "Crop Type          0\n",
      "Nitrogen           0\n",
      "Potassium          0\n",
      "Phosphorous        0\n",
      "Fertilizer Name    0\n",
      "dtype: int64\n"
     ]
    }
   ],
   "source": [
    "# check any null value\n",
    "print(train.isnull().sum())"
   ]
  },
  {
   "cell_type": "code",
   "execution_count": 4,
   "id": "10710a62",
   "metadata": {
    "execution": {
     "iopub.execute_input": "2025-06-14T09:27:58.884957Z",
     "iopub.status.busy": "2025-06-14T09:27:58.884612Z",
     "iopub.status.idle": "2025-06-14T09:27:59.028538Z",
     "shell.execute_reply": "2025-06-14T09:27:59.026681Z"
    },
    "papermill": {
     "duration": 0.150125,
     "end_time": "2025-06-14T09:27:59.030356",
     "exception": false,
     "start_time": "2025-06-14T09:27:58.880231",
     "status": "completed"
    },
    "tags": []
   },
   "outputs": [
    {
     "name": "stdout",
     "output_type": "stream",
     "text": [
      "<class 'pandas.core.frame.DataFrame'>\n",
      "RangeIndex: 750000 entries, 0 to 749999\n",
      "Data columns (total 10 columns):\n",
      " #   Column           Non-Null Count   Dtype \n",
      "---  ------           --------------   ----- \n",
      " 0   id               750000 non-null  int64 \n",
      " 1   Temparature      750000 non-null  int64 \n",
      " 2   Humidity         750000 non-null  int64 \n",
      " 3   Moisture         750000 non-null  int64 \n",
      " 4   Soil Type        750000 non-null  object\n",
      " 5   Crop Type        750000 non-null  object\n",
      " 6   Nitrogen         750000 non-null  int64 \n",
      " 7   Potassium        750000 non-null  int64 \n",
      " 8   Phosphorous      750000 non-null  int64 \n",
      " 9   Fertilizer Name  750000 non-null  object\n",
      "dtypes: int64(7), object(3)\n",
      "memory usage: 57.2+ MB\n",
      "None\n"
     ]
    }
   ],
   "source": [
    "# Print the data information\n",
    "print(train.info())"
   ]
  },
  {
   "cell_type": "markdown",
   "id": "93be8200",
   "metadata": {
    "papermill": {
     "duration": 0.00314,
     "end_time": "2025-06-14T09:27:59.037101",
     "exception": false,
     "start_time": "2025-06-14T09:27:59.033961",
     "status": "completed"
    },
    "tags": []
   },
   "source": [
    "There are 10 columns with 750000 rows, without any null values. 'Soli Type', 'Crop Type' and 'Fertilizer Name' are catogory type, others are numeric type."
   ]
  },
  {
   "cell_type": "code",
   "execution_count": 5,
   "id": "eddf8024",
   "metadata": {
    "execution": {
     "iopub.execute_input": "2025-06-14T09:27:59.045069Z",
     "iopub.status.busy": "2025-06-14T09:27:59.044710Z",
     "iopub.status.idle": "2025-06-14T09:27:59.246780Z",
     "shell.execute_reply": "2025-06-14T09:27:59.245311Z"
    },
    "papermill": {
     "duration": 0.208247,
     "end_time": "2025-06-14T09:27:59.248667",
     "exception": false,
     "start_time": "2025-06-14T09:27:59.040420",
     "status": "completed"
    },
    "tags": []
   },
   "outputs": [
    {
     "name": "stdout",
     "output_type": "stream",
     "text": [
      "                  id    Temparature       Humidity       Moisture  \\\n",
      "count  750000.000000  750000.000000  750000.000000  750000.000000   \n",
      "mean   374999.500000      31.503565      61.038912      45.184147   \n",
      "std    216506.495284       4.025574       6.647695      11.794594   \n",
      "min         0.000000      25.000000      50.000000      25.000000   \n",
      "25%    187499.750000      28.000000      55.000000      35.000000   \n",
      "50%    374999.500000      32.000000      61.000000      45.000000   \n",
      "75%    562499.250000      35.000000      67.000000      55.000000   \n",
      "max    749999.000000      38.000000      72.000000      65.000000   \n",
      "\n",
      "            Nitrogen      Potassium    Phosphorous  \n",
      "count  750000.000000  750000.000000  750000.000000  \n",
      "mean       23.093808       9.478296      21.073227  \n",
      "std        11.216125       5.765622      12.346831  \n",
      "min         4.000000       0.000000       0.000000  \n",
      "25%        13.000000       4.000000      10.000000  \n",
      "50%        23.000000       9.000000      21.000000  \n",
      "75%        33.000000      14.000000      32.000000  \n",
      "max        42.000000      19.000000      42.000000  \n"
     ]
    }
   ],
   "source": [
    "# Print statistics\n",
    "print(train.describe())"
   ]
  },
  {
   "cell_type": "markdown",
   "id": "b0f00ba3",
   "metadata": {
    "papermill": {
     "duration": 0.003218,
     "end_time": "2025-06-14T09:27:59.255449",
     "exception": false,
     "start_time": "2025-06-14T09:27:59.252231",
     "status": "completed"
    },
    "tags": []
   },
   "source": [
    "Base on the describe, the data range is resonable,so no normalization needed."
   ]
  },
  {
   "cell_type": "markdown",
   "id": "c5396687",
   "metadata": {
    "papermill": {
     "duration": 0.003047,
     "end_time": "2025-06-14T09:27:59.261979",
     "exception": false,
     "start_time": "2025-06-14T09:27:59.258932",
     "status": "completed"
    },
    "tags": []
   },
   "source": [
    "## Encode Categorical Variables"
   ]
  },
  {
   "cell_type": "code",
   "execution_count": 6,
   "id": "c8dc4c84",
   "metadata": {
    "execution": {
     "iopub.execute_input": "2025-06-14T09:27:59.270567Z",
     "iopub.status.busy": "2025-06-14T09:27:59.269942Z",
     "iopub.status.idle": "2025-06-14T09:27:59.688075Z",
     "shell.execute_reply": "2025-06-14T09:27:59.687137Z"
    },
    "papermill": {
     "duration": 0.424514,
     "end_time": "2025-06-14T09:27:59.689734",
     "exception": false,
     "start_time": "2025-06-14T09:27:59.265220",
     "status": "completed"
    },
    "tags": []
   },
   "outputs": [],
   "source": [
    "le_soil = LabelEncoder()\n",
    "le_crop = LabelEncoder()\n",
    "le_fert = LabelEncoder()\n",
    "\n",
    "train['Soil Type'] = le_soil.fit_transform(train['Soil Type'])\n",
    "train['Crop Type'] = le_crop.fit_transform(train['Crop Type'])\n",
    "train['Fertilizer Name'] = le_fert.fit_transform(train['Fertilizer Name'])"
   ]
  },
  {
   "cell_type": "code",
   "execution_count": 7,
   "id": "ad5d1186",
   "metadata": {
    "execution": {
     "iopub.execute_input": "2025-06-14T09:27:59.699062Z",
     "iopub.status.busy": "2025-06-14T09:27:59.698092Z",
     "iopub.status.idle": "2025-06-14T09:27:59.708955Z",
     "shell.execute_reply": "2025-06-14T09:27:59.707881Z"
    },
    "papermill": {
     "duration": 0.017672,
     "end_time": "2025-06-14T09:27:59.711242",
     "exception": false,
     "start_time": "2025-06-14T09:27:59.693570",
     "status": "completed"
    },
    "tags": []
   },
   "outputs": [
    {
     "data": {
      "text/html": [
       "<div>\n",
       "<style scoped>\n",
       "    .dataframe tbody tr th:only-of-type {\n",
       "        vertical-align: middle;\n",
       "    }\n",
       "\n",
       "    .dataframe tbody tr th {\n",
       "        vertical-align: top;\n",
       "    }\n",
       "\n",
       "    .dataframe thead th {\n",
       "        text-align: right;\n",
       "    }\n",
       "</style>\n",
       "<table border=\"1\" class=\"dataframe\">\n",
       "  <thead>\n",
       "    <tr style=\"text-align: right;\">\n",
       "      <th></th>\n",
       "      <th>id</th>\n",
       "      <th>Temparature</th>\n",
       "      <th>Humidity</th>\n",
       "      <th>Moisture</th>\n",
       "      <th>Soil Type</th>\n",
       "      <th>Crop Type</th>\n",
       "      <th>Nitrogen</th>\n",
       "      <th>Potassium</th>\n",
       "      <th>Phosphorous</th>\n",
       "      <th>Fertilizer Name</th>\n",
       "    </tr>\n",
       "  </thead>\n",
       "  <tbody>\n",
       "    <tr>\n",
       "      <th>0</th>\n",
       "      <td>0</td>\n",
       "      <td>37</td>\n",
       "      <td>70</td>\n",
       "      <td>36</td>\n",
       "      <td>1</td>\n",
       "      <td>8</td>\n",
       "      <td>36</td>\n",
       "      <td>4</td>\n",
       "      <td>5</td>\n",
       "      <td>4</td>\n",
       "    </tr>\n",
       "    <tr>\n",
       "      <th>1</th>\n",
       "      <td>1</td>\n",
       "      <td>27</td>\n",
       "      <td>69</td>\n",
       "      <td>65</td>\n",
       "      <td>4</td>\n",
       "      <td>4</td>\n",
       "      <td>30</td>\n",
       "      <td>6</td>\n",
       "      <td>18</td>\n",
       "      <td>4</td>\n",
       "    </tr>\n",
       "    <tr>\n",
       "      <th>2</th>\n",
       "      <td>2</td>\n",
       "      <td>29</td>\n",
       "      <td>63</td>\n",
       "      <td>32</td>\n",
       "      <td>4</td>\n",
       "      <td>4</td>\n",
       "      <td>24</td>\n",
       "      <td>12</td>\n",
       "      <td>16</td>\n",
       "      <td>2</td>\n",
       "    </tr>\n",
       "    <tr>\n",
       "      <th>3</th>\n",
       "      <td>3</td>\n",
       "      <td>35</td>\n",
       "      <td>62</td>\n",
       "      <td>54</td>\n",
       "      <td>4</td>\n",
       "      <td>0</td>\n",
       "      <td>39</td>\n",
       "      <td>12</td>\n",
       "      <td>4</td>\n",
       "      <td>0</td>\n",
       "    </tr>\n",
       "    <tr>\n",
       "      <th>4</th>\n",
       "      <td>4</td>\n",
       "      <td>35</td>\n",
       "      <td>58</td>\n",
       "      <td>43</td>\n",
       "      <td>3</td>\n",
       "      <td>6</td>\n",
       "      <td>37</td>\n",
       "      <td>2</td>\n",
       "      <td>16</td>\n",
       "      <td>5</td>\n",
       "    </tr>\n",
       "  </tbody>\n",
       "</table>\n",
       "</div>"
      ],
      "text/plain": [
       "   id  Temparature  Humidity  Moisture  Soil Type  Crop Type  Nitrogen  \\\n",
       "0   0           37        70        36          1          8        36   \n",
       "1   1           27        69        65          4          4        30   \n",
       "2   2           29        63        32          4          4        24   \n",
       "3   3           35        62        54          4          0        39   \n",
       "4   4           35        58        43          3          6        37   \n",
       "\n",
       "   Potassium  Phosphorous  Fertilizer Name  \n",
       "0          4            5                4  \n",
       "1          6           18                4  \n",
       "2         12           16                2  \n",
       "3         12            4                0  \n",
       "4          2           16                5  "
      ]
     },
     "execution_count": 7,
     "metadata": {},
     "output_type": "execute_result"
    }
   ],
   "source": [
    "train.head()"
   ]
  },
  {
   "cell_type": "markdown",
   "id": "678f9e68",
   "metadata": {
    "papermill": {
     "duration": 0.003983,
     "end_time": "2025-06-14T09:27:59.719534",
     "exception": false,
     "start_time": "2025-06-14T09:27:59.715551",
     "status": "completed"
    },
    "tags": []
   },
   "source": [
    "Check data balance"
   ]
  },
  {
   "cell_type": "code",
   "execution_count": 8,
   "id": "521a7f7a",
   "metadata": {
    "execution": {
     "iopub.execute_input": "2025-06-14T09:27:59.729061Z",
     "iopub.status.busy": "2025-06-14T09:27:59.728721Z",
     "iopub.status.idle": "2025-06-14T09:28:00.077842Z",
     "shell.execute_reply": "2025-06-14T09:28:00.076840Z"
    },
    "papermill": {
     "duration": 0.355736,
     "end_time": "2025-06-14T09:28:00.079624",
     "exception": false,
     "start_time": "2025-06-14T09:27:59.723888",
     "status": "completed"
    },
    "tags": []
   },
   "outputs": [
    {
     "data": {
      "text/plain": [
       "<Axes: xlabel='Fertilizer Name'>"
      ]
     },
     "execution_count": 8,
     "metadata": {},
     "output_type": "execute_result"
    },
    {
     "data": {
      "image/png": "[encoded data removed]",
      "text/plain": [
       "<Figure size 640x480 with 1 Axes>"
      ]
     },
     "metadata": {},
     "output_type": "display_data"
    }
   ],
   "source": [
    "train['Fertilizer Name'].value_counts(normalize=True).plot(kind='bar')"
   ]
  },
  {
   "cell_type": "markdown",
   "id": "9f9425c5",
   "metadata": {
    "papermill": {
     "duration": 0.003783,
     "end_time": "2025-06-14T09:28:00.087730",
     "exception": false,
     "start_time": "2025-06-14T09:28:00.083947",
     "status": "completed"
    },
    "tags": []
   },
   "source": [
    "The class distribution for the target variable 'Fertilizer Name' is fairly balanced."
   ]
  },
  {
   "cell_type": "code",
   "execution_count": 9,
   "id": "fa9d6050",
   "metadata": {
    "execution": {
     "iopub.execute_input": "2025-06-14T09:28:00.097470Z",
     "iopub.status.busy": "2025-06-14T09:28:00.097086Z",
     "iopub.status.idle": "2025-06-14T09:28:00.125273Z",
     "shell.execute_reply": "2025-06-14T09:28:00.123833Z"
    },
    "papermill": {
     "duration": 0.036496,
     "end_time": "2025-06-14T09:28:00.128199",
     "exception": false,
     "start_time": "2025-06-14T09:28:00.091703",
     "status": "completed"
    },
    "tags": []
   },
   "outputs": [],
   "source": [
    "# Separate Features and Target\n",
    "X = train.drop(columns=['id', 'Fertilizer Name'])\n",
    "y = train['Fertilizer Name']"
   ]
  }
 ],
 "metadata": {
  "kaggle": {
   "accelerator": "none",
   "dataSources": [
    {
     "databundleVersionId": 12184666,
     "sourceId": 91717,
     "sourceType": "competition"
    },
    {
     "datasetId": 7660034,
     "sourceId": 12162490,
     "sourceType": "datasetVersion"
    }
   ],
   "dockerImageVersionId": 31040,
   "isGpuEnabled": false,
   "isInternetEnabled": true,
   "language": "python",
   "sourceType": "notebook"
  },
  "kernelspec": {
   "display_name": "Python 3",
   "language": "python",
   "name": "python3"
  },
  "language_info": {
   "codemirror_mode": {
    "name": "ipython",
    "version": 3
   },
   "file_extension": ".py",
   "mimetype": "text/x-python",
   "name": "python",
   "nbconvert_exporter": "python",
   "pygments_lexer": "ipython3",
   "version": "3.11.11"
  },
  "papermill": {
   "default_parameters": {},
   "duration": 12.614073,
   "end_time": "2025-06-14T09:28:00.854657",
   "environment_variables": {},
   "exception": null,
   "input_path": "__notebook__.ipynb",
   "output_path": "__notebook__.ipynb",
   "parameters": {},
   "start_time": "2025-06-14T09:27:48.240584",
   "version": "2.6.0"
  }
 },
 "nbformat": 4,
 "nbformat_minor": 5
}
